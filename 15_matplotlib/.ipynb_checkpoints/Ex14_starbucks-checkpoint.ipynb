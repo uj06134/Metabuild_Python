{
 "cells": [
  {
   "cell_type": "code",
   "execution_count": 1,
   "id": "a33eb801-2253-4340-90bb-03b3f5d1caaf",
   "metadata": {},
   "outputs": [],
   "source": [
    "import pandas as pd\n",
    "import numpy as np\n",
    "import requests\n",
    "\n",
    "from bs4 import BeautifulSoup\n",
    "\n",
    "from tqdm.notebook import tqdm \n",
    "from selenium import webdriver\n",
    "from selenium.webdriver.common.by import By\n",
    "from selenium.webdriver.support.ui import WebDriverWait\n",
    "from selenium.webdriver.support import expected_conditions as EC\n",
    "from selenium.webdriver.chrome.service import Service\n",
    "from selenium.webdriver.chrome.options import Options"
   ]
  },
  {
   "cell_type": "code",
   "execution_count": 120,
   "id": "cfcfbced-c32b-4e95-8af1-5a31ac36d628",
   "metadata": {},
   "outputs": [
    {
     "name": "stdout",
     "output_type": "stream",
     "text": [
      "<class 'selenium.webdriver.chrome.webdriver.WebDriver'>\n"
     ]
    }
   ],
   "source": [
    "chrome_options = webdriver.ChromeOptions()\n",
    "chrome_path = \"C:\\Program Files\\Google\\Chrome\\Application\\chrome.exe\"  # 실제 경로\n",
    "chrome_options.binary_location = chrome_path\n",
    "\n",
    "driver_path = \"chromedriver.exe\"\n",
    "myservice = Service(driver_path)\n",
    "driver = webdriver.Chrome(service=myservice, options=chrome_options)\n",
    "\n",
    "print(type(driver))\n",
    "\n",
    "wait_time = 10\n",
    "driver.implicitly_wait(wait_time)"
   ]
  },
  {
   "cell_type": "code",
   "execution_count": 121,
   "id": "4d087b46-e1bf-4803-98d8-a9003482f1d9",
   "metadata": {},
   "outputs": [],
   "source": [
    "driver.maximize_window()"
   ]
  },
  {
   "cell_type": "code",
   "execution_count": 122,
   "id": "cf6c3de6-048d-4721-a5e0-a22d84244042",
   "metadata": {},
   "outputs": [],
   "source": [
    "starbucks_url = \"https://www.starbucks.co.kr/store/store_map.do?disp=locale\"\n",
    "driver.get(starbucks_url)"
   ]
  },
  {
   "cell_type": "code",
   "execution_count": 123,
   "id": "63749bb2-13db-4bab-b430-7c8904d166ca",
   "metadata": {},
   "outputs": [],
   "source": [
    "# 스타벅스 서울 링크 클릭\n",
    "starbucks_seoul_selector =\"#container > div > form > fieldset > div > section > article.find_store_cont > article > article:nth-child(4) > div.loca_step1 > div.loca_step1_cont > ul > li:nth-child(1) > a\"\n",
    "seoul_link = WebDriverWait(driver, 10).until(\n",
    "    EC.element_to_be_clickable((By.CSS_SELECTOR, starbucks_seoul_selector))\n",
    ")\n",
    "seoul_link.click()"
   ]
  },
  {
   "cell_type": "code",
   "execution_count": 124,
   "id": "40b92275-4e8a-485f-bf96-ca1e7a028bb9",
   "metadata": {},
   "outputs": [],
   "source": [
    "# 스타벅스 서울 전체 링크 클릭\n",
    "starbucks_seoul_all_selector = \"#mCSB_2_container > ul > li:nth-child(1) > a\"\n",
    "seoul_all_link = WebDriverWait(driver, 10).until(\n",
    "    EC.element_to_be_clickable((By.CSS_SELECTOR, starbucks_seoul_all_selector))\n",
    ")\n",
    "seoul_all_link.click()"
   ]
  },
  {
   "cell_type": "code",
   "execution_count": 125,
   "id": "0f908f34-3afb-4861-a81e-56fce3193b98",
   "metadata": {},
   "outputs": [
    {
     "name": "stdout",
     "output_type": "stream",
     "text": [
      "starbucks.html파일 생성됨\n"
     ]
    }
   ],
   "source": [
    "html = driver.page_source\n",
    "filename = \"starbucks.html\"\n",
    "htmlFile = open(filename,mode=\"w\",encoding=\"utf-8\")\n",
    "print(html,file=htmlFile)\n",
    "htmlFile.close()\n",
    "print(filename + \"파일 생성됨\")"
   ]
  },
  {
   "cell_type": "code",
   "execution_count": 126,
   "id": "28f76319-df72-4882-a958-cc78bb0bdd81",
   "metadata": {},
   "outputs": [
    {
     "name": "stdout",
     "output_type": "stream",
     "text": [
      "<class 'bs4.BeautifulSoup'>\n"
     ]
    }
   ],
   "source": [
    "soup = BeautifulSoup(html,\"html.parser\")\n",
    "print(type(soup))"
   ]
  },
  {
   "cell_type": "code",
   "execution_count": 127,
   "id": "eaa50464-ad67-46d9-8e8e-9f667b4289bd",
   "metadata": {},
   "outputs": [
    {
     "name": "stdout",
     "output_type": "stream",
     "text": [
      "서울 전체 매장 개수 : 660\n"
     ]
    }
   ],
   "source": [
    "container = soup.find(\"div\", id = \"mCSB_3_container\")\n",
    "storeAll = container.find_all(\"li\")\n",
    "print(f\"서울 전체 매장 개수 : {len(storeAll)}\")"
   ]
  },
  {
   "cell_type": "code",
   "execution_count": 128,
   "id": "49816c18-4156-4fad-a068-021e099bb794",
   "metadata": {},
   "outputs": [
    {
     "name": "stdout",
     "output_type": "stream",
     "text": [
      "파일 생성됨\n"
     ]
    }
   ],
   "source": [
    "html_partial = \"\\n\\n\".join(str(li) for li in storeAll)\n",
    "htmlFile = open(\"mCSB_3_container_li.html\", mode=\"w\", encoding=\"UTF-8\")\n",
    "print(html_partial, file=htmlFile)\n",
    "htmlFile.close\n",
    "print(\"파일 생성됨\")"
   ]
  },
  {
   "cell_type": "code",
   "execution_count": 141,
   "id": "be9f4a52-f4f6-4c58-a67f-958094ac6b9c",
   "metadata": {},
   "outputs": [
    {
     "name": "stdout",
     "output_type": "stream",
     "text": [
      "[['역삼아레나빌딩', '서울특별시 강남구 언주로 425 (역삼동)', '강남구', '37.501087', '127.043069'], ['논현역사거리', '서울특별시 강남구 강남대로 538 (논현동)', '강남구', '37.510178', '127.022223'], ['신사역성일빌딩', '서울특별시 강남구 강남대로 584 (논현동)', '강남구', '37.5139309', '127.0206057'], ['국기원사거리', '서울특별시 강남구 테헤란로 125 (역삼동)', '강남구', '37.499517', '127.031495'], ['대치재경빌딩', '서울특별시 강남구 남부순환로 2947 (대치동)', '강남구', '37.494668', '127.062583']]\n"
     ]
    }
   ],
   "source": [
    "starbucksData =[]\n",
    "\n",
    "for li in storeAll[0:5]:\n",
    "    name = li.get('data-name')\n",
    "    address = li.find('p','result_details').getText().replace(\"1522-3232\", \"\")\n",
    "    gu = address.split(' ')[1]\n",
    "    lat = li.get('data-lat')\n",
    "    long = li['data-long']\n",
    "    starbucksData.append([name, address, gu, lat, long])\n",
    "print(starbucksData)"
   ]
  },
  {
   "cell_type": "code",
   "execution_count": 143,
   "id": "83cd155e-cd75-467e-ac05-89d40be6f290",
   "metadata": {},
   "outputs": [
    {
     "name": "stdout",
     "output_type": "stream",
     "text": [
      "파일 생성됨\n"
     ]
    }
   ],
   "source": [
    "htmlFile = open(\"starbucks.txt\", mode=\"w\", encoding=\"UTF-8\")\n",
    "print(starbucksData, file=htmlFile)\n",
    "htmlFile.close\n",
    "print(\"파일 생성됨\")"
   ]
  },
  {
   "cell_type": "code",
   "execution_count": null,
   "id": "792ad8ac-860f-4b8b-ac80-bad17323e8b4",
   "metadata": {},
   "outputs": [],
   "source": []
  }
 ],
 "metadata": {
  "kernelspec": {
   "display_name": "Python 3 (ipykernel)",
   "language": "python",
   "name": "python3"
  },
  "language_info": {
   "codemirror_mode": {
    "name": "ipython",
    "version": 3
   },
   "file_extension": ".py",
   "mimetype": "text/x-python",
   "name": "python",
   "nbconvert_exporter": "python",
   "pygments_lexer": "ipython3",
   "version": "3.11.9"
  }
 },
 "nbformat": 4,
 "nbformat_minor": 5
}

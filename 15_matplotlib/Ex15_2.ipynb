{
 "cells": [
  {
   "cell_type": "code",
   "execution_count": null,
   "id": "5b7b6ef0-e1fa-4ad1-a268-4130cd83623d",
   "metadata": {},
   "outputs": [],
   "source": [
    "import pandas as pd\n",
    "import numpy as np\n",
    "import requests\n",
    "import re\n",
    "import time\n",
    "from bs4 import BeautifulSoup\n",
    "from tqdm.notebook import tqdm \n",
    "from selenium import webdriver\n",
    "from selenium.webdriver.common.by import By\n",
    "from selenium.webdriver.support.ui import WebDriverWait\n",
    "from selenium.webdriver.support import expected_conditions as EC\n",
    "from selenium.webdriver.chrome.service import Service\n",
    "from selenium.webdriver.chrome.options import Options"
   ]
  },
  {
   "cell_type": "code",
   "execution_count": 167,
   "id": "994f2635-4e85-408f-931e-8e04696ce566",
   "metadata": {},
   "outputs": [
    {
     "name": "stdout",
     "output_type": "stream",
     "text": [
      "<class 'selenium.webdriver.chrome.webdriver.WebDriver'>\n"
     ]
    }
   ],
   "source": [
    "chrome_options = webdriver.ChromeOptions()\n",
    "chrome_path = \"C:\\Program Files\\Google\\Chrome\\Application\\chrome.exe\"  # 실제 경로\n",
    "chrome_options.binary_location = chrome_path\n",
    "\n",
    "driver_path = \"chromedriver.exe\"\n",
    "myservice = Service(driver_path)\n",
    "driver = webdriver.Chrome(service=myservice, options=chrome_options)\n",
    "\n",
    "print(type(driver))\n",
    "\n",
    "wait_time = 10\n",
    "driver.implicitly_wait(wait_time)\n",
    "\n",
    "driver.maximize_window()"
   ]
  },
  {
   "cell_type": "code",
   "execution_count": 168,
   "id": "dd634e24-0962-4e79-be8c-de41e8fb6adb",
   "metadata": {},
   "outputs": [
    {
     "name": "stdout",
     "output_type": "stream",
     "text": [
      "mon 요일 10개 수집 완료\n",
      "\n",
      "tue 요일 10개 수집 완료\n",
      "\n",
      "wed 요일 10개 수집 완료\n",
      "\n",
      "thu 요일 10개 수집 완료\n",
      "\n",
      "fri 요일 10개 수집 완료\n",
      "\n",
      "sat 요일 10개 수집 완료\n",
      "\n",
      "sun 요일 10개 수집 완료\n",
      "\n"
     ]
    }
   ],
   "source": [
    "# 제목 / 작가 / 평점 / 이미지파일 / 링크\n",
    "weekdays = ['mon', 'tue', 'wed', 'thu', 'fri', 'sat', 'sun']\n",
    "base_url = \"https://comic.naver.com/webtoon?tab=\"\n",
    "weekly_webtoons = {}\n",
    "\n",
    "for weekday in weekdays:\n",
    "    page_url = f\"{base_url}{weekday}\"\n",
    "    driver.get(page_url)\n",
    "    time.sleep(3)\n",
    "    \n",
    "    soup = BeautifulSoup(driver.page_source, 'html.parser')\n",
    "    \n",
    "    title_tags = soup.find_all(\"span\", class_=\"ContentTitle__title--e3qXt\")\n",
    "    author_tags = soup.find_all(\"a\", class_=\"ContentAuthor__author--CTAAP\")\n",
    "    star_tags = soup.find_all(\"span\", class_=\"Rating__star_area--dFzsb\")\n",
    "    img_tags = soup.find_all(\"img\", class_=\"Poster__image--d9XTI\")\n",
    "    link_tags = soup.select(\"a.Poster__link--sopnC\")\n",
    "\n",
    "    webtoon_data = []\n",
    "    for idx in range(3, len(title_tags)):\n",
    "        title = title_tags[idx].get_text(strip=True)\n",
    "        author = author_tags[idx].get_text(strip=True) if idx < len(author_tags) else \"\"\n",
    "        star = star_tags[idx].get_text(strip=True)[2:] if idx < len(star_tags) else \"\"\n",
    "\n",
    "        # 이미지 URL 추출\n",
    "        img_url = img_tags[idx]['src'] if idx < len(img_tags) else \"\"\n",
    "\n",
    "        # 링크 추출\n",
    "        link_url = \"https://comic.naver.com\" + link_tags[idx].get(\"href\") if idx < len(link_tags) else \"\"\n",
    "\n",
    "        webtoon_data.append([title, author, star, img_url, link_url])\n",
    "        \n",
    "    weekly_webtoons[weekday] = webtoon_data[:10]\n",
    "    print(f\"{weekday} 요일 {len(webtoon_data[:10])}개 수집 완료\\n\")\n",
    "\n",
    "driver.quit()\n"
   ]
  },
  {
   "cell_type": "code",
   "execution_count": 169,
   "id": "11dd8cb6-f843-47d9-932f-4022c6f86c76",
   "metadata": {},
   "outputs": [
    {
     "name": "stdout",
     "output_type": "stream",
     "text": [
      "저장 완료\n"
     ]
    }
   ],
   "source": [
    "day_ko = {'mon': '월', 'tue': '화', 'wed': '수', 'thu': '목', 'fri': '금', 'sat': '토', 'sun': '일'}\n",
    "\n",
    "df = pd.DataFrame([\n",
    "    (day_ko[day], title, author, star, img, link)\n",
    "    for day, webtoons in weekly_webtoons.items()\n",
    "    for title, author, star, img, link in webtoons\n",
    "], columns=['요일', '제목', '작가', '평점', '이미지', '링크'])\n",
    "\n",
    "df.to_csv('weekly_webtoons.csv', index=False, encoding='utf-8-sig')\n",
    "print(\"저장 완료\")\n"
   ]
  }
 ],
 "metadata": {
  "kernelspec": {
   "display_name": "Python 3 (ipykernel)",
   "language": "python",
   "name": "python3"
  },
  "language_info": {
   "codemirror_mode": {
    "name": "ipython",
    "version": 3
   },
   "file_extension": ".py",
   "mimetype": "text/x-python",
   "name": "python",
   "nbconvert_exporter": "python",
   "pygments_lexer": "ipython3",
   "version": "3.11.9"
  }
 },
 "nbformat": 4,
 "nbformat_minor": 5
}
